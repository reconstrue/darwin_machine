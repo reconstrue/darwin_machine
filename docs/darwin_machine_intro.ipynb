{
  "nbformat": 4,
  "nbformat_minor": 0,
  "metadata": {
    "colab": {
      "name": "darwin_machine_intro.ipynb",
      "provenance": [],
      "collapsed_sections": [],
      "toc_visible": true
    },
    "kernelspec": {
      "name": "python3",
      "display_name": "Python 3"
    }
  },
  "cells": [
    {
      "cell_type": "markdown",
      "metadata": {
        "id": "VZLVzPgsTZj1",
        "colab_type": "text"
      },
      "source": [
        "# Calvin's Darwin Machine Theory\n",
        "\n",
        "[![](http://williamcalvin.com/img/bk9.jpg)](http://williamcalvin.com/bk9/)\n",
        "\n",
        "This project contains code written based on the ideas in Williams\n",
        "Calvin's 1996 book, The Cerebral Code [[1](#ref_1)].  (Dr. Calvin has\n",
        "made available the full text of the book [[2](#ref_2)]).  In that book\n",
        "the author describes brains as Darwin Machines: an organ that evolved\n",
        "to perform Darwinian tuning up of thoughts in what we humans\n",
        "experience as real time.\n",
        "\n",
        "This notebook is a container for early Python experiments with Calvin's [Darwin machine](https://en.wikipedia.org/wiki/Darwin_machine) theory (\"Darwin machine\" is a play on [\"Turing machine\"](https://en.wikipedia.org/wiki/Turing_machine)). By that I mean developing code – with a Jupyter UI – that can be used in explanations of Calvin's Darwin Machine theory.\n",
        "\n",
        "Out of scope: simulations. That is an obvious next step after this current effort, but first: simply some animations of the ideas in the book, realized as an explorable explanation in JupyterLab or Colab. (Simulation will probably happen using The Allen's [BMTK](https://alleninstitute.github.io/bmtk/).)\n",
        "\n",
        "Alternatively, perhaps this should be written in JavaScript on http://observableshq.com.\n",
        "\n"
      ]
    },
    {
      "cell_type": "markdown",
      "metadata": {
        "id": "Odg_FtoQQDAh",
        "colab_type": "text"
      },
      "source": [
        "## Legal\n",
        "\n",
        "\n",
        "<img src=\"http://reconstrue.com/assets/images/reconstrue_combo_mark.svg\" height=\"40px\" />\n",
        "\n",
        "Copyright 2020 Reconstrue LLC. Licensed under the Apache License, Version 2.0 (the \"License\"):"
      ]
    },
    {
      "cell_type": "code",
      "metadata": {
        "id": "rS0WdzElQE6N",
        "colab_type": "code",
        "colab": {}
      },
      "source": [
        "# Copyright 2020 Reconstrue LLC. All Rights Reserved.\n",
        "#\n",
        "# Licensed under the Apache License, Version 2.0 (the \"License\");\n",
        "# you may not use this file except in compliance with the License.\n",
        "# You may obtain a copy of the License at\n",
        "#\n",
        "#     http://www.apache.org/licenses/LICENSE-2.0\n",
        "#\n",
        "# Unless required by applicable law or agreed to in writing, software\n",
        "# distributed under the License is distributed on an \"AS IS\" BASIS,\n",
        "# WITHOUT WARRANTIES OR CONDITIONS OF ANY KIND, either express or implied.\n",
        "# See the License for the specific language governing permissions and\n",
        "# limitations under the License.\n",
        "# =============================================================================="
      ],
      "execution_count": 0,
      "outputs": []
    },
    {
      "cell_type": "markdown",
      "metadata": {
        "id": "YemzBxPWUxR4",
        "colab_type": "text"
      },
      "source": [
        "## References\n",
        "\n",
        "### The book\n",
        "- <a name=\"ref_1\"/>[1] [The Cerebral Code on MIT Press site](https://mitpress.mit.edu/books/cerebral-code)\n",
        "- <a name=\"ref_2\"/>[2] [The full text of the book on williamcalvin.com](http://williamcalvin.com/bk9/)\n",
        "- <a name=\"ref_3\"/>[3] [Full text on Internet Archive](https://web.archive.org/web/20190807044621/williamcalvin.com/bk9)\n",
        "\n",
        "### Triangular grids in Python\n",
        "\n",
        "- [triangle_grid.html](https://stackoverflow.com/questions/11373122/best-way-to-store-a-triangular-hexagonal-grid-in-pythonhttps://people.sc.fsu.edu/~jburkardt/py_src/triangle_grid/triangle_grid.html)\n",
        "- [making-grid-triangular-mesh-quickly-with-numpy](https://stackoverflow.com/questions/44934631/making-grid-triangular-mesh-quickly-with-numpy)"
      ]
    }
  ]
}