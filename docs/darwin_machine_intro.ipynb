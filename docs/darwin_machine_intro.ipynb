{
  "nbformat": 4,
  "nbformat_minor": 0,
  "metadata": {
    "colab": {
      "name": "darwin_machine_intro.ipynb",
      "provenance": [],
      "collapsed_sections": [],
      "toc_visible": true
    },
    "kernelspec": {
      "name": "python3",
      "display_name": "Python 3"
    }
  },
  "cells": [
    {
      "cell_type": "markdown",
      "metadata": {
        "id": "JTtVXssNLNrF",
        "colab_type": "text"
      },
      "source": [
        "<center><h1><b>Calvin's Darwin Machine Theory</b></h1></center>\n",
        "\n",
        "\n",
        "<center>\n",
        "<a href=\"https://commons.wikimedia.org/wiki/File:Flower_of_Life_7-circles.svg\">\n",
        "<img width=\"50%\" src=\"https://upload.wikimedia.org/wikipedia/commons/thumb/1/16/Flower_of_Life_7-circles.svg/1000px-Flower_of_Life_7-circles.svg.png\" />\n",
        "</a>\n",
        "</center>\n"
      ]
    },
    {
      "cell_type": "markdown",
      "metadata": {
        "id": "bPHTYt9gAlZG",
        "colab_type": "text"
      },
      "source": [
        "\"The other strangeness is the underlying simplicity of much of the world.\" – \n",
        "[Crick](https://youtu.be/p3wh56La69A?t=33)"
      ]
    },
    {
      "cell_type": "markdown",
      "metadata": {
        "id": "LNMb83qdT7hI",
        "colab_type": "text"
      },
      "source": [
        "# Inbox\n",
        "\n",
        "So, if the individuals are Calvin's hexes, a winning population is Greenfield's ripple on the pond. The population is assembling into higher IIT phi, and then goes to memory or dissolves.\n",
        "\n",
        "Focus on permutation not mutation: Permutation is where the vast majority of fitness is discovered, not mutation. And six-way orgies can permutate quite a lot.\n",
        "\n",
        "The Darwin Machine is recursive evolution. Regular species evolution invents new neural cell types which then create \"populations of species\" which form structures in the brain which recursively run another Dawinian process based on spikers.\n",
        "\n",
        "This is neuroscience population thinking, but Darwinian Populations. It is an instance of [Universal Darwinism](https://en.wikipedia.org/wiki/Universal_Darwinism) but it is not [Edelman's Neural Darwinism](https://en.wikipedia.org/wiki/Neural_Darwinism) (which might be closer to what Seung it figuring out).\n",
        "\n",
        "Potential hereditary memory/state storage substate:\n",
        "- [Squids and neurons](https://scitechdaily.com/superpower-discovered-in-squids-they-can-massively-edit-their-own-genetics/)\n",
        "- [DNA May Not Be the Blueprint for Life – Just a Scrambled List of Ingredients](https://scitechdaily.com/dna-may-not-be-the-blueprint-for-life-just-a-scrambled-list-of-ingredients/)\n",
        "\n"
      ]
    },
    {
      "cell_type": "markdown",
      "metadata": {
        "id": "VZLVzPgsTZj1",
        "colab_type": "text"
      },
      "source": [
        "**Click on the above book cover** to read – on-line, in full, for free, legally – the original book which introduced Calvin's Darwin Machine theory, [The Cerebral Code: Thinking a Thought in the Mosaics of the Mind](http://www.williamcalvin.com/bk9/) (1996, MIT Press). \n",
        "\n",
        "In that book the author describes the brain as a \"[darwin machine](https://en.wikipedia.org/wiki/Darwin_machine).\" In Calvin's darwin machine theory, the brain is an organ evolved to perform Darwinian tuning up of thoughts, at the speed of what we\n",
        "experience as real time. The name is a play on \"[Turing machine](https://en.wikipedia.org/wiki/Turing_machine).\"\n",
        "\n",
        "\n",
        "\n",
        "\n",
        "Everything else in this notebook is simply notes, analysis, and commentary on the above book, \n",
        "\n",
        "\n",
        "\n",
        "The author has made the full text available on his website:  \n",
        "\n",
        "http://www.williamcalvin.com/bk9/\n",
        "\n",
        "\n"
      ]
    },
    {
      "cell_type": "markdown",
      "metadata": {
        "id": "9PQRErPP7VtF",
        "colab_type": "text"
      },
      "source": [
        "## Introduction\n",
        "\n",
        "This project contains code written based on the ideas in Williams\n",
        "Calvin's 1996 book, The Cerebral Code [[1](#ref_1)].  (Dr. Calvin has\n",
        "made available the full text of the book [[2](#ref_2)]).  In that book\n",
        "the author describes brains as Darwin Machines: an organ that evolved\n",
        "to perform Darwinian tuning up of thoughts, at the speed of what we\n",
        "experience as real time.\n",
        "\n",
        "This notebook is a container for early Python experiments with Calvin's [Darwin machine](https://en.wikipedia.org/wiki/Darwin_machine) theory (\"Darwin machine\" is a play on [\"Turing machine\"](https://en.wikipedia.org/wiki/Turing_machine)). By that I mean developing code – with a Jupyter UI – that can be used in explanations of Calvin's Darwin Machine theory.\n",
        "\n",
        "Out of scope: simulations. That is an obvious next step after this current effort, but first: simply some animations of the ideas in the book, realized as an explorable explanation in JupyterLab or Colab. (Simulation will probably happen using The Allen's [BMTK](https://alleninstitute.github.io/bmtk/).)\n",
        "\n",
        "Alternatively, perhaps this should be written in JavaScript on http://observableshq.com.\n",
        "\n"
      ]
    },
    {
      "cell_type": "markdown",
      "metadata": {
        "id": "STAuf_FYa0ce",
        "colab_type": "text"
      },
      "source": [
        "# Prior authors\n",
        "\n",
        "Gathered notes on existing work on Darwinian dynamics in the context of neuroscience.\n",
        "\n"
      ]
    },
    {
      "cell_type": "markdown",
      "metadata": {
        "id": "CI-xuQQfucL_",
        "colab_type": "text"
      },
      "source": [
        "## Allen Institute\n",
        "\n",
        "- [Contextual Integration in Cortical and Convolutional Neural Networks | Frontiers in Computational Neuroscience](https://www.frontiersin.org/articles/10.3389/fncom.2020.00031/full?report=reader)\n",
        "  - Front. Comput. Neurosci.\n",
        "  - 23 April 2020 \n",
        "  - https://doi.org/10.3389/fncom.2020.00031\n",
        "\n",
        "(While finding the above, this has some interesting title: [lateral connections can perform contextual integration](https://scholar.google.com/scholar?hl=en&as_sdt=0%2C48&q=lateral+connections+can+perform+contextual+integration&btnG=))"
      ]
    },
    {
      "cell_type": "markdown",
      "metadata": {
        "id": "nLnKF0XAuK3_",
        "colab_type": "text"
      },
      "source": [
        "## Assembly Calculus\n",
        "- Paper(PNAS): [Brain computation by assemblies of neurons](https://www.pnas.org/content/early/2020/06/08/2001893117)\n",
        "- Explainer: [Discovering how the brain works through computation](https://medicalxpress.com/news/2020-06-brain.html)\n",
        "- [ ] Are these the same Hebbian cell assemblies Calvin is talking about\n",
        "\n",
        "It's mesoscale:\n",
        ">We propose a formal computational model of the brain based on assemblies of neurons; we call this system the Assembly Calculus. In terms of detail and granularity, the Assembly Calculus occupies a position intermediate between the level of individual neurons and synapses and the level of the whole-brain models useful in cognitive science\n",
        "\n",
        "Wha? Calcium Imaging can already see Hebbian cell assemblies\n",
        ">The basic elementary object of our system is the assembly of excitatory neurons. The idea of assemblies is, of course, not new. They were first hypothesized seven decades ago by Donald O. **Hebb** (4) to be densely interconnected sets of neurons whose loosely synchronized firing in a pattern is coterminous with the subject thinking of a particular concept or idea. Assembly-like formations have been sought by researchers during the decades following Hebb’s prediction (see, e.g., ref. 5), **until they were clearly identified more than a decade ago through calcium imaging** (6, 7). More recently, assemblies (sometimes called ensembles) and their dynamic behavior have been studied extensively in the animal brain (see, e.g., ref. 8), while assemblies are the central theme of György Buzsáki’s recent book (9).\n",
        "\n",
        "- [ ] Ref 6: K. D. Harris, Neural signatures of cell assembly organization. Nat. Rev. Neurosci. 6, 399–407 (2005).\n",
        "- [ ] Ref 7: G. Buzsaki, Neural syntax: Cell assemblies, synapsembles, and readers. Neuron 68, 362–385 (2010)."
      ]
    },
    {
      "cell_type": "markdown",
      "metadata": {
        "id": "zHjsiI1y1Fr9",
        "colab_type": "text"
      },
      "source": [
        "## Banino et alia\n",
        "\n",
        "DeepMind's work with grid cells: [Vector-based navigation using grid-like representations in artificial agents](https://www.nature.com/articles/s41586-018-0102-6.epdf?author_access_token=BjM-5BdGxd14c17YFA6PsdRgN0jAjWel9jnR3ZoTv0OEfySMT4t78PpPpCS7uExW3njb8Q4UlgcwRM32WwBCKZs73SThwkfI42wHhFEtJM-Y7sQxDsR1cR7_C9Kq1GwuxGJn46kzRnujvrDMGzc4TQ%3D%3D), Andrea Banino et alia\n",
        "\n",
        "[Banino on Twitter](https://twitter.com/AndreaBanino/status/1092722305300684800): \n",
        ">the code for the supervised learning experiment of the paper Vector-based navigation using grid-like representations in artificial agents https://github.com/deepmind/grid-cells"
      ]
    },
    {
      "cell_type": "markdown",
      "metadata": {
        "id": "2-wvQsaDToY8",
        "colab_type": "text"
      },
      "source": [
        "## Conway\n",
        "\n",
        "Conway's Game of Life clearly influence Calvin's DMT. He mentions it in <a href='http://www.williamcalvin.com/bk9/bk9ch1.htm'>Chapter One</a> and even includes the following image:\n",
        "\n",
        "<img src='http://www.williamcalvin.com/bk9/img/glider.jpg' width='70%'/>\n",
        "\n",
        "[Conway interviewed about Game of Life](https://youtu.be/R9Plq-D1gEk?list=PLt5AfwLFPxWIL8XA1npoNAHseS-j1y-7V&t=458):\n",
        ">Q: \"Has it been built upon, the mathematics?\"  \n",
        ">A: \"No, it's finished. I mean that's another thing really. You can build upon it in the following sense: you can study particular configurations.\"\n",
        "\n",
        "<img src='https://www.researchgate.net/profile/Yan_Liu40/publication/274743186/figure/fig3/AS:667642776006657@1536189850143/Element-of-cellular-automata-CA-top-with-Conways-game-of-life-as-illustration.png' />\n",
        "\n",
        "**TODO:** Explicitly map Conway to Calvin as cellular automatons on map\n",
        "- Squares versus hexs\n",
        "- Neighbors immediate, or annuli remoted\n",
        "  - [Wrong, hexes have immediate neighbors, not remote; neurons do, not hexes]\n",
        "- Neighborhood map\n",
        "  - In GoL, a cell can see its 8 neighbors\n",
        "  - In DMT, a hex can sees 6 neighbors (6 is a hexad; a heptad is 7)\n",
        "- Start/continue/replicate/end rules\n",
        "  - DMT bootstraps from 1, 2, 3, ...\n",
        "  - But DMT essentially replicates on 2 of 6 neighbors\n"
      ]
    },
    {
      "cell_type": "markdown",
      "metadata": {
        "id": "Xqlfsm0y3JGP",
        "colab_type": "text"
      },
      "source": [
        "### Conway's children\n",
        "\n",
        "[How a life-like system emerges from a simplistic particle motion law](https://www.nature.com/articles/srep37969)\n",
        "- [Simulation video on YouTube](https://www.youtube.com/watch?v=makaJpLvbow)\n",
        "  - YouTube 2016, 16min\n",
        "  - [ ] Definitely check out the description for more linked-to\n",
        "\n",
        "- Same but 2018? https://www.youtube.com/watch?v=Qr28DwXeyu0\n",
        "\n",
        "\n",
        "The Langton's Ant and RNA\n",
        "- [Study reveals continuous pathway to building blocks of life](https://phys.org/news/2020-06-reveals-pathway-blocks-life.html)\n",
        "- http://www.langtonant.com/"
      ]
    },
    {
      "cell_type": "markdown",
      "metadata": {
        "id": "fYHXx8zgbLkQ",
        "colab_type": "text"
      },
      "source": [
        "## Crick\n",
        "\n",
        "[History of Neuroscience: Francis Crick](https://youtu.be/mXGZ3euhq4g?t=933):\n",
        ">It has to have mechanism where it can make good, quick guess. In point of fact, it probably makes a very quick guess and then it refines the guess.\n",
        "\n",
        "[Crick liked Elelman's ideas about complexity in the neurosystem](https://youtu.be/1Kvv7fKadyc?t=3238): \"Now I think that's a very attractive idea.\" In this 1999 talk he referred to it as a recent paper. Perhaps that paper is [Consciousness and Complexity](https://science.sciencemag.org/content/282/5395/1846.abstract) Giulio Tononi, Gerald M. Edelman, Science  04 Dec 1998: Vol. 282, Issue 5395, pp. 1846-1851, DOI: 10.1126/science.282.5395.1846  \n",
        "Abstract:\n",
        ">Conventional approaches to understanding consciousness are generally concerned with the contribution of specific brain areas or groups of neurons. By contrast, it is considered here what kinds of neural processes can account for key properties of conscious experience. Applying measures of neural integration and complexity, together with an analysis of extensive neurological data, leads to a testable proposal—the dynamic core hypothesis—about the properties of the neural substrate of consciousness.\n",
        "\n",
        "But Edelman was publishing [a lot on completity](https://scholar.google.com/scholar?q=gerald+edelman+complexity&hl=en&as_sdt=0,48) some with Tonino."
      ]
    },
    {
      "cell_type": "markdown",
      "metadata": {
        "id": "5yczK9HHZgw9",
        "colab_type": "text"
      },
      "source": [
        "## Cajal\n",
        "\n",
        "Turns out even from the very beginning of modern neuroscience in the mid-1800s, the big boys (Darwin, James, Cajal, etc.) were noodling how the brain's structure assembled from conception might involve natural selection. That is not the same thing as what Calvin describes.\n",
        "\n",
        "[The influence of James and Darwin on Cajal and his research into the neuron theory and evolution of the nervous system](https://www.ncbi.nlm.nih.gov/pmc/articles/PMC3905238/\n",
        ")\n",
        "- Ferreira, Nogueira, and DeFelipe\n",
        "- São Paulo, Brazil and Madrid, Spain\n",
        "- Front Neuroanat. 2014; 8: 1.\n",
        "- Published online 2014 Jan 29. \n",
        "- doi: 10.3389/fnana.2014.00001\n",
        "- PMCID: PMC3905238\n",
        "- PMID: 24523676\n",
        "\n",
        "\n",
        "\n"
      ]
    },
    {
      "cell_type": "markdown",
      "metadata": {
        "id": "4uw1nt7zaEyM",
        "colab_type": "text"
      },
      "source": [
        "[Jamesian properties of consciousness](https://youtu.be/2RMXujk5AhM?t=3189) according to Edelman:\n",
        "- Consciousness is a form of awareness\n",
        "- is a process (not a thing)\n",
        "- is individual or personal\n",
        "- is continuous but changing\n",
        "- has intentionality\n",
        "- (but does not exhaust all aspects of things with which it deals)"
      ]
    },
    {
      "cell_type": "markdown",
      "metadata": {
        "id": "hGZgNggUWxmw",
        "colab_type": "text"
      },
      "source": [
        "## Darwin\n",
        "\n",
        "['A Perfect and Beautiful Machine': What Darwin's Theory of Evolution Reveals About Artificial Intelligence](https://www.theatlantic.com/technology/archive/2012/06/-a-perfect-and-beautiful-machine-what-darwins-theory-of-evolution-reveals-about-artificial-intelligence/258829/)"
      ]
    },
    {
      "cell_type": "markdown",
      "metadata": {
        "id": "iROgIxkcRy6x",
        "colab_type": "text"
      },
      "source": [
        "### Darwin theory features\n",
        "\n",
        "#### Adaptive Radiation\n",
        "[Evolution: An Archipelago Replete with Replicates](https://www.sciencedirect.com/science/article/pii/S0960982218303610)\n",
        "- Current Biology Volume 28, Issue 9, 7 May 2018, Pages R565-R567\n",
        "> Summary\n",
        "Adaptive radiations, in which repeated bouts of diversification lead to phenotypically similar species, highlight the power of natural selection and predictability in evolution. A newly discovered radiation of stick spiders on Hawaii helps shed new light on this phenomenon.\n",
        "\n",
        "[Why Evolution Goes Wild On Islands: The Science Of Adaptive Radiation](https://www.allaboutbirds.org/news/why-evolution-goes-wild-on-islands-the-science-of-adaptive-radiation/)"
      ]
    },
    {
      "cell_type": "markdown",
      "metadata": {
        "id": "xCA6ERwqaQdI",
        "colab_type": "text"
      },
      "source": [
        "## Dennett\n",
        "\n",
        "[William Calvin wrote](http://williamcalvin.com/bk9/index.htm):\n",
        "> The modern chapter of mental darwinism starts in 1965 with Dan Dennett's D. Phil. thesis, published as Content and Consciousness (Routledge and Kegan Paul 1969)."
      ]
    },
    {
      "cell_type": "markdown",
      "metadata": {
        "id": "cQJ4GfsUD0yt",
        "colab_type": "text"
      },
      "source": [
        "Clearly Dennett is thinking about consciousness as being a competitive system.\n",
        "- [Daniel Dennett - Can Brain Explain Mind?](https://youtu.be/CPGvu8lT8HY) YouTube, 2013, 13 minutes"
      ]
    },
    {
      "cell_type": "markdown",
      "metadata": {
        "id": "h9rIpcqRUyvh",
        "colab_type": "text"
      },
      "source": [
        "Dennett wrote [Darwin's Dangerous Idea](https://en.wikipedia.org/wiki/Darwin%27s_Dangerous_Idea), which is not about neural darwinism specifically."
      ]
    },
    {
      "cell_type": "markdown",
      "metadata": {
        "id": "NewllB1EdfkN",
        "colab_type": "text"
      },
      "source": [
        "## Edelman\n",
        "\n",
        "See below for [his 2006 lecture at IBM](#scrollTo=wW4bZVhbCD01), which is where to start with Edelman.\n",
        "\n",
        "Clearly Edelman influenced Calvin: \n",
        "- In the index of The Cerebral Code Edelman is to found on **eight pages**\n",
        "- [Book review, by William H. Calvin, of Gerald M. Edelman's book, Neural Darwinism](http://williamcalvin.com/1980s/1988Science.htm), Science 240:1802-1803 (1988). \n",
        ">While not the first to use Darwinian analogies and biology's powerful population thinking to approach the problem of how to wire up a brain, Gerald Edelman came to it from having tackled **the analogous self-organization problems in the immune system**; [JFT: i.e. another example of recursive evolution from biology] in the last dozen years, he has studied the counterpart selectivity theories for the nervous system in greater depth than anyone else, and so this book has been eagerly awaited…  \n",
        ">**Most attractive of all is the single foldout color plate**…    \n",
        ">\n",
        ">**Not everything that involves random initial conditions and selective survival deserves to be called Darwinism.** The dance evolutionary biologists call the \"Darwinian two-step,\" randomness-then-selection continuing back and forth for many rounds to increasingly shape up nonrandom-looking results, usually cannot be seen in Edelman's examples of neural Darwinism; these repeated injections of randomness lie at the heart of what some would consider as delimiting 'Darwinism from simpler forms of self-organization such as clumping and zero-sum \"**Matthewism**.\"…  \n",
        "> Neural Darwinism. On such a pretext, many readers will rationalize laying this admittedly difficult book aside, unfinished. Yet those who persevere may come away feeling, **\"The brain really could work that way,\"**\n",
        "\n"
      ]
    },
    {
      "cell_type": "markdown",
      "metadata": {
        "id": "DKONDu_5FdbR",
        "colab_type": "text"
      },
      "source": [
        "### Inbox\n",
        "Stephen Smoliar (**who?**) also wrote [a review](https://www.sciencedirect.com/science/article/abs/pii/0004370289900040).\n",
        "\n",
        "[Gerald Edelman talks to Basil Gelpke: Simple words and deep meanings](https://www.youtube.com/watch?v=dvbbnelnDcA):\n",
        "> Gerald Edelman on the brain, spirituality and evolution\n",
        "This Interview with Gerald Edelman was recorded October 14, 2010\n",
        "www.menschzweinull.com has more - unfortunately it's in German\n",
        "\n",
        "[Edelman's Neural Darwinism](http://www.acamedia.info/sciences/sciliterature/edel.htm), a not too brief explanation\n",
        "\n",
        "\n",
        "[The Language of the Objective Observer: Gerald Edelman and Neurodarwinism: Antonio Damasio and the Feeling of Knowing](https://link.springer.com/chapter/10.1007/978-0-387-33645-9_4)\n",
        "\n",
        "**TODO:** No idea: [The Dominant and Neurodarwinism](https://pubmed.ncbi.nlm.nih.gov/8212878/) \n",
        "- P V Simonov\n",
        "- PMID: 8212878\n",
        "- Jul-Aug 1993;43(4):765-9. Russian\n",
        ">Abstract\n",
        "Lately, the trends analysing the traits of likeness between the evolutionary process, immune reactions and brain activity was called as \"neurodarwinism\" (**G. Edelman**). It has been established that pre-existed diversity of the material to be selected is the main condition of successful adaptation of the living organism to unknown future. The review of the data obtained in the course of studying the dominant by V. S. Rusinov's school shows that namely the dominant mechanism does ensure the variety of neuronal and behavioural assortment from which new adaptive behavioural acts are formed. This statement allows to consider further theoretical and experimental study of the dominant phenomenon as one of the priority and promising trends of the modern neurobiology.\n"
      ]
    },
    {
      "cell_type": "markdown",
      "metadata": {
        "id": "wW4bZVhbCD01",
        "colab_type": "text"
      },
      "source": [
        "### 2006 lecture at Almaden (where to start with Edelman)\n",
        "\n",
        "Seems like he was the keynote/first-speaker at [2006 IBM Almaden Institute on Cognitive Computing](https://researcher.watson.ibm.com/researcher/view_group_subpage.php?id=4266) (sic).\n",
        "\n",
        "[Gerald Edelman - Brain Dynamics to Consciousness](https://www.youtube.com/watch?time_continue=1132&v=2RMXujk5AhM)\n",
        "- Published on YouTube 2014\n",
        "- 1h 26m\n",
        "- Description\n",
        "  > Dr. Gerald Edelman, Nobel Prize winner in Medicine, Founder and Director of the Neurosciences Institute and Chair of Neurobiology at the Scripps Research Institute discusses: the brain, consciousness, Neural Darwinism, the theory of neuronal group selection (TNGS), and reentrant feedback connections.\n",
        "- In comments: \"Edelman's work is in general not well explained.  **In this video, he is clear,** but if you were to read books on how exactly he did it, you get confused.\"\n",
        "\n",
        "[Thesis in@22:34](https://youtu.be/2RMXujk5AhM?t=1354):\n",
        "  > ~Consider what we must consider. Requirs four points:\n",
        "  > 1. Global brain theory\n",
        "  > 2. What properties of neuronal populations are responsible for the features of consciousness\n",
        "  > 3. Find ways of measuring neural corrates of consciouness, experimentally \n",
        "  > 4. Show what the difference is in the brain betweeen those aspects of the brain that give rise to consciousness and those that do not\n"
      ]
    },
    {
      "cell_type": "markdown",
      "metadata": {
        "id": "J49bIi6ASH0w",
        "colab_type": "text"
      },
      "source": [
        "### Theory of Neuronal Group Select\n",
        "\n",
        "The big scary book: Neural Darwinism: The Theory Of Neuronal Group Selection, by Derald Edelman ([Pubmed](https://pubmed.ncbi.nlm.nih.gov/17842436/), [Google Books](https://books.google.com/books/about/Neural_Darwinism.html?id=hOdqAAAAMAAJ))\n",
        "- ISBN: 9780465049349, 400pp.\n",
        "- Publication Date: December 1, 1987\n",
        "\n",
        "Theory of Neuronal Group Select (TNGS):\n",
        "- [Gerald Edelman - The theory of neural Darwinism (37/86)](https://www.youtube.com/watch?v=DX8q3Gv2_-I)\n",
        "  - [Full interview](https://www.webofstories.com/play/gerald.edelman/1) webofstories.com\n",
        "- [Gerald Edelman - Response to criticism of Neural Darwinism (40/86)](https://www.youtube.com/watch?v=JAuLcVnMSyo) Fire-together wire-together\n",
        "- Embriogenesis on down\n",
        "\n",
        "- [McGill U's one-pager](https://thebrain.mcgill.ca/flash/capsules/outil_rouge03.html): Neural Darwinism is mostly about the evolution of the physical structure? Only get Calvinian when he talks about the maps entering temporal resonance? Perhaps this is what he means by \"global brain theory.\" Are we looking at yet another level of recursive Darwinism?\n"
      ]
    },
    {
      "cell_type": "markdown",
      "metadata": {
        "id": "odNOISlWAZW0",
        "colab_type": "text"
      },
      "source": [
        "## Greenfield\n",
        "\n",
        "[The Neuroscience of Consciousness](https://www.youtube.com/watch?v=k_ZTNmkIiBc)\n",
        "- YouTube, (2012), 94min\n",
        "- Neuronal assemblies as ripples on a pond hit by a stone. This could very well align with Calvin's trilattice propagation.\n",
        "- [~in@42m: emperical demo of ripples](https://youtu.be/k_ZTNmkIiBc?t=2512)\n",
        "\n",
        "\n",
        "In another talke, [her definition of neuronal assemblies](https://youtu.be/WN5Fs6_O2mY?t=1644)\n",
        ">Variable, transient (subsecond), macro-scale groups of neurons (>10 million), not confined to/defined by anatomical brain region/systems."
      ]
    },
    {
      "cell_type": "markdown",
      "metadata": {
        "id": "R07EaUazaMLV",
        "colab_type": "text"
      },
      "source": [
        "## Godfrey-Smith\n",
        "\n",
        "PGS has lots to say that is worth listening to. He really makes solid arguments based on highfalutin abstractions but sticks the landing beautifully. He is very valuable for making one thing in Darwinian individauls, populations, and \"species\" which will be valauable when kanoodling with Cavin's ideas.\n",
        "\n",
        "- [Darwinian Populations and Transitions in Individuality](https://petergodfreysmith.com/wp-content/uploads/2013/06/PGS-Darwinian-Pops-and-Transitions-Vienna-07-Q.pdf) (2007)\n",
        "- [Conditions for Evolution by Natural Selection](https://petergodfreysmith.com/ConditionsNS-07-JP-web.pdf)\n",
        "- [Shulman Lectures in Science and the Humanities: “Paths to the Evolution of Consciousness”](https://www.youtube.com/watch?time_continue=267&v=zmTxy9FPTvc) (Yale, 2017, 91 minutes)"
      ]
    },
    {
      "cell_type": "markdown",
      "metadata": {
        "id": "nqXqqnZu3n5k",
        "colab_type": "text"
      },
      "source": [
        "### Other Minds\n",
        "I suspect this guy is looking at cephalopods (octopii, especially) as an example of [convergent evolution](https://www.youtube.com/watch?v=dfQuDKgwDTo) of intelligence.\n",
        "\n",
        " “If we can make contact with cephalopods as sentient beings, it is not because of a shared history, not because of kinship, but because evolution built minds twice over,” says Godfrey-Smith. “This is probably the closest we will come to meeting an intelligent alien.”\n",
        "\n",
        "Cephalopods are and example of \"Adaptive radiations [repeated bouts of diversification lead to phenotypically similar species] highlight the power of natural selection and predictability in evolution [[*](https://www.sciencedirect.com/science/article/pii/S0960982218303610)].\" Ergo consciousness is something that predictably arises repeatedly in nature as a good solution to responding to life-and-death outside stimulii in real time?\n",
        "\n",
        "Relevant writings\n",
        "- [Primates, Cephalopods, and the Evolution of Communication](https://petergodfreysmith.com/wp-content/uploads/2019/12/Primates-and-communication-PGS-preprint.pdf)\n",
        "- [The Evolution of Consciousness in Phylogenetic Context](https://petergodfreysmith.com/wp-content/uploads/2017/12/Evo-Consciousness-Routledge-PGS-2016-Q-web.pdf)\n",
        "  - \"I focus especially on the following questions: Was there one path through whic consciousness arose, or more than one? That is, was a single origin followed by radiation down various lines, or were there several independent origins? If there were multiple paths, is this a matter of a single type of path, and several instances or tokens of that type, or was there more than one type? A second question is related. Did consciousness arise in a gradual way, or was there more of a jump or threshold effect? \""
      ]
    },
    {
      "cell_type": "markdown",
      "metadata": {
        "id": "hY_FadjHZdtp",
        "colab_type": "text"
      },
      "source": [
        "### Darwinian Populations \n",
        "\n",
        "Book: Darwinian Populations and Natural Selection (2009)\n",
        "\n",
        "[Gry Oftedal's review](https://www.tandfonline.com/doi/abs/10.1080/02698595.2010.522417?journalCode=cisp20) (2010)\n",
        "> Godfrey-Smith shifts the focus from genes to populations\n",
        "\n",
        "Seeminly PGS' shorthand is \"Dpops\":  \n",
        "&nbsp;&nbsp;&nbsp;&nbsp;<a href='petergodfreysmith.com/**Dpops**_Main.html'>petergodfreysmith.com/**Dpops**_Main.html</a>\n",
        "\n",
        "This is important for many reasons. One is the think along the lines of \"what is the individual and what population is it in?\" Cells are individuals or whole organism is? All leading to what is the Calvinism individual in the brain and what population is it in?\n",
        "\n",
        "<img src=\"https://petergodfreysmith.com/Dpops_Figure_3-1.jpg\" width=\"50%\" /><img src=\"https://petergodfreysmith.com/Figure_5-1_Dpops.jpg\" width=\"50%\" />\n",
        "\n",
        "\n",
        "- [Darwinian Individuals](https://petergodfreysmith.com/wp-content/uploads/2013/06/PGS-Darwinian-Individuals-2013.pdf) (2013)\n",
        "- [A review of DP&NS](https://www.researchgate.net/publication/258628288_Darwinian_Populations_and_Natural_Selection), Quarterly Review of Biology\n",
        "\n"
      ]
    },
    {
      "cell_type": "markdown",
      "metadata": {
        "id": "p8_bejtzwAb1",
        "colab_type": "text"
      },
      "source": [
        "Notice how similar the model is with Calvin's. Calvin was saying the same thing in 1996 but not focused on the nature of the space, rather Calvin was trying to come up with a features checklist of Darwin Machines. Calvin (1996), Chapter One:\n",
        ">With only a few of the six essentials, one gets the more widespread \"selective survival\" process (which popular usage tends to call darwinian). You may get some changes (evolution, but only in the weakest sense of the word) but things soon settle, running out of steam without the full process to turn the darwinian ratchet."
      ]
    },
    {
      "cell_type": "markdown",
      "metadata": {
        "id": "7B09XpWbzcaW",
        "colab_type": "text"
      },
      "source": [
        "[The relativity of Darwinian populations and the ecology of endosymbiosis](https://www.ncbi.nlm.nih.gov/pmc/articles/PMC5003906/) by Adrian Stencel (2016) Biol Philos. 2016; 31(5): 619–637.\n",
        "> My starting point is evolution through natural selection (ENS). A population which can undergo ENS must comprise causally connected objects (called here Darwinian individuals), which must in turn be characterised by three properties. Firstly, they must vary with respect to traits such as weight, intelligence or biochemical pathways. Furthermore, these traits must influence the fitness output of the Darwinian individuals. This means that differences in traits influence the reproduction and survival of individuals. Finally, these traits must be heritable, at least to some extent, by offspring. Evolution by natural selection, thus, will take place in any population in which there are phenotypic variations, heritability, and differences in fitness (reproductive output) caused, at least in part, by these variations. Combining these three properties, we come to the conclusion that Darwinian individuals must be reproducers (Griesemer 2000; Godfrey-Smith 2009), because reproducers are the only units capable of transforming the resources they find around them in order to produce more reproducers and thus are causally responsible for parent-offspring similarity (fulfilling the heritability criterion mentioned above). Assuming we have, therefore, a diverse population of reproducers competing for limited resources, only some reproducers will obtain them and produce offspring; others will undergo decay, gradually transforming them back into resources: the thread which has linked them via parent-offspring lineage to the first reproducer is broken. Indeed, such a population will experience evolution by natural selection.\n",
        ">\n",
        "> Interestingly, we find different kinds of reproducers in nature. Godfrey-Smith (2009) cited three. The first are scaffolded reproducers: those entirely dependent on external machinery. For instance, viruses belong to this category, because they need the biochemical machinery of cells to reproduce. The second category includes simple reproducers. Reproducers of this kind possess inner machinery, and thus need only external resources to initiate reproduction. One example is a bacterial cell. The third category constitutes collective reproducers, i.e. those built of simple reproducers. In essence, a collective reproducer is an entity that can reproduce itself, but which is also built of elements that can reproduce themselves. An example is multicellular individuals built of eukaryotic cells. The above classification is not artificial, but rather a consequence of the fact that evolution is a process not only of differential reproduction of Darwinian individuals, but as well one that leads to the origin of new kinds of Darwinian individuals, called transitions in individuality (Michod 2000; Godfrey-Smith 2009). These transitions occur when a group of units comes together to form a higher level of unit that can undergo the process of natural selection itself, as it becomes a new, collective reproducer, as in the case of transition from unicellular to multicellular individuals (Buss 1988; Maynard-Smith and Szathmary 1995) or from prokaryotic cells to eukaryotic cells containing mitochondria that were formerly free-living cells (Margulis 1981). Of course, this is not the whole story. Reproducers are much more diverse than the above classification suggests. This diversity was extensively elaborated by Godfrey-Smith (2009). For instance, collective reproducers such as animals and plants differ in their method of reproduction, since some species multiply sexually, some through fragmentation of the body and others via both routes. Such considerations are quite interesting and illuminating; however, for the purpose of this paper, the classification introduced above is sufficient."
      ]
    },
    {
      "cell_type": "markdown",
      "metadata": {
        "id": "LaTaKm6srbj8",
        "colab_type": "text"
      },
      "source": [
        "## James\n",
        "\n",
        "See Cajal"
      ]
    },
    {
      "cell_type": "markdown",
      "metadata": {
        "id": "QBNARcZgxRf3",
        "colab_type": "text"
      },
      "source": [
        "## Kanerva\n",
        "\n",
        "His 1K minimum or 10K for breakout math is evolutionary. Bigger brains more nodes. Continuum."
      ]
    },
    {
      "cell_type": "markdown",
      "metadata": {
        "id": "v6QK0LIAyq1r",
        "colab_type": "text"
      },
      "source": [
        "## Kreiman\n",
        "\n",
        "[Deciphering Brain Codes to Build Smarter AI](https://youtu.be/h0InlY2WKc0?t=2546)  \n",
        "\n",
        "(2020-07, YouTube(MITCBMM)). \n",
        "Quoting:\n",
        ">So there's still a big gap with respect to human performance in this purely bottom-up model [i.e. stock AlexNet]. So our recipe here was to incorporate horizontal connections. So we take, in this case, one layer -- layer FC7 -- and we connect all the units in FC7 in an all to all fashion. So we add horizontal recurrent connections everywhere in layer FC7, and we build what's called an attractor network. These are networks that have attractor states that have been shown many years ago to be able to solve problems of pattern completion. This was introduced by a person called John Hopfield, and these are known in the literature as Hopfield networks. So basically what we're doing is we're taking a deep convolutional network-- in this case, AlexNet-- and we're inducing at the top an attractive network, a Hopfield network at the level of FC7."
      ]
    },
    {
      "cell_type": "markdown",
      "metadata": {
        "id": "5Qk3gZsYa2nu",
        "colab_type": "text"
      },
      "source": [
        "## Lewonton\n",
        "\n",
        "Stanford Encyclopedia of Philosophy, [Natural Selection](https://plato.stanford.edu/entries/natural-selection/)\n"
      ]
    },
    {
      "cell_type": "markdown",
      "metadata": {
        "id": "TbbZYfha0qtg",
        "colab_type": "text"
      },
      "source": [
        "## Numenta\n",
        "\n",
        "[A Framework for Intelligence and Cortical Function Based on Grid Cells in the Neocortex](https://www.frontiersin.org/articles/10.3389/fncir.2018.00121/full)\n",
        "- [The Thousand Brains Theory of Intelligence](https://numenta.com/blog/2019/01/16/the-thousand-brains-theory-of-intelligence/) says **grid cell like stuff is going on in the neocortex**, not just the hypocampus\n",
        "- [A Framework for Intelligence and Cortical Function Based on Grid Cells in the Neocortex](https://numenta.com/neuroscience-research/research-publications/papers/a-framework-for-intelligence-and-cortical-function-based-on-grid-cells-in-the-neocortex/)\n",
        "- [Companion paper to A Framework for Intelligence and Cortical Function Based on Grid Cells in the Neocortex](https://numenta.com/neuroscience-research/research-publications/papers/thousand-brains-theory-of-intelligence-companion-paper/)\n",
        "\n",
        "Grid cells triangular array may just be a triangular coincidence, or maybe that is a shadow of Calvin's theory\n",
        "  - Maybe the 1000s of copies are population individuals a la Calvin\n",
        "\n",
        "Each cortical column can create complete models: [5 min on YouTube](https://youtu.be/X50GY0mdHlw?t=111). Their model has distinct columns like beer cans in a 24 can case, which is wrong."
      ]
    },
    {
      "cell_type": "markdown",
      "metadata": {
        "id": "raxcF93GRJn4",
        "colab_type": "text"
      },
      "source": [
        "## Penrose\n",
        "\n",
        "- [khat Things Really Exist?](https://www.youtube.com/watch?v=H9Q6SWcTA9w) YouTube(11m)"
      ]
    },
    {
      "cell_type": "markdown",
      "metadata": {
        "id": "y_d3L4seb5c-",
        "colab_type": "text"
      },
      "source": [
        "## Seung\n",
        "\n",
        "Seung's models – following previous work – acknowledges a need for competition amongst the synapses [[*](https://youtu.be/B2Ukzffv8Lk?t=1759)]. He does not talk about Darwinian at all. It's just competition, unless each cell is running a Darwinian system internally but where would the memory (the hereditary state) be – in the DNA like adaptive immune system or squids? Would that be like the immune system using DNA as a scratch pad? I have no evidence for that; I assume this is a non-Darwinian competition (i.e. no mechanism of hereditary encoding and propagation)."
      ]
    },
    {
      "cell_type": "markdown",
      "metadata": {
        "id": "Gq7YvMGC9R8K",
        "colab_type": "text"
      },
      "source": [
        "## Tononi\n",
        "\n",
        "[Giulio Tononi at FQXi's 5th International Conference.](https://youtu.be/zvJyMmw2Thw?t=1052) (YouTube, 2017):\n",
        ">Some parts of the cerebral cortex are arranged in a way which is ideal for high phi. It is a bunch of grids – essentially 2D grids on top of each other. That generally speaking generated high phi.\n",
        "\n",
        "Tononi refers to the following 20124 paper in PLOS One for further study:   \n",
        "[From the Phenomenology to the Mechanisms of Consciousness: Integrated Information Theory 3.0](https://journals.plos.org/ploscompbiol/article?id=10.1371/journal.pcbi.1003588) \n",
        "- Masafumi Oizumi ,Larissa Albantakis ,Giulio Tononi \n",
        "- Published: May 8, 2014\n",
        "- https://doi.org/10.1371/journal.pcbi.1003588\n"
      ]
    },
    {
      "cell_type": "markdown",
      "metadata": {
        "id": "2VkrDLZjPrW9",
        "colab_type": "text"
      },
      "source": [
        "# Relevant neurobiology\n",
        "\n",
        "[Note this paper is being written by someone with no formal trainin in neurobiology besides a 101 Intro to Brains class at JHU decades ago.]\n",
        "\n",
        "## Cortical column\n",
        "\n",
        "Do not get confused by the concept of corticle column. The cortical column theory is an assumption of Calvinism (and most mainstream neuroscience, or even Numenta's theories) but it can be confusing if one assumes such columns are like [the medulla in the fly where there are physical columns](https://www.pnas.org/content/112/44/13711/tab-figures-data):\n",
        "\n",
        "<center>\n",
        "<h3><b>WRONG</b></h3>\n",
        "<img src='https://www.pnas.org/content/pnas/112/44/13711/F1.large.jpg?width=800&height=600&carousel=1' width='70%'/>\n",
        "</center>\n",
        "\n",
        "A great paper for this is [Whose Cortical Column Would that Be?](https://www.ncbi.nlm.nih.gov/pubmed/20640245) ([PDF](https://pdfs.semanticscholar.org/c026/4030b994353954423a1dbb41fe1fde4e13b9.pdf?_ga=2.115268608.603092178.1563708858-108667196.1559001607)) by [Nuno Maçarico da Costa](https://alleninstitute.org/what-we-do/brain-science/about/team/staff-profiles/nuno-macarico-da-costa/) currently at the Allen Institute.\n",
        "\n",
        "In DMT, the cortical columns are fixed in spacing but not in space. Indeed, multiple trilatices overlap with different offsets and/or orientations; each set of columns is simply a collection of cells interlinked via annuli. And this sort of structure is has the potential for high phi in IIT terms (or at least that's what Tononi has repeatedly mentioned; haven't read the papers yet).\n"
      ]
    },
    {
      "cell_type": "markdown",
      "metadata": {
        "id": "EjCCFWWlJlzV",
        "colab_type": "text"
      },
      "source": [
        "# Darwinian systems\n",
        "\n",
        "Core to all this is Calvin's 6-part requirements list. It's an abstraction – a template that can be used to map to and map out some new space (consciousness in this case but others exist).\n",
        "\n",
        "Examples of Darwinian population dynamic systems.\n",
        "\n",
        "**TODO:** bring in all examples by PGS\n",
        "- [Viruses evolve](https://phys.org/news/2020-06-viruses-alive-wrong.html)\n"
      ]
    },
    {
      "cell_type": "markdown",
      "metadata": {
        "id": "SPDRu7RgKi6u",
        "colab_type": "text"
      },
      "source": [
        "### Ecological scaffolding\n",
        "\n",
        "Ecological scaffolding is a theory that focuses on the import and potentcy of an environment to set up the emerence of individuals i.e. a population of copied patterns, under very simple assumptions (patches with inter-patch dispersal). That theory could provide a way whereby a Darwinian process bootstrapped in brains, without anything before – just as happened for DNA and species.\n",
        "\n",
        "What is the minimum to kick-start a system? Does the brain simply need to provide an ecosystem of patches with inter-patch dispersal? The inter-patch dispersal is the annuli-based trilattice. The ecosystem being provided is a regularly space archipeligo, where only a single individual can populate each island. [Oy, that doesn't sound exactly like Darwin's finches. Maybe the analogy is to nesting sites/homes.]\n",
        "\n",
        "Perhaps Calvin's tiling-of-plane-with-pavers needs a tweaking: add grassy margins. Perhaps there needs to be a significant margin between the pavers, to provide patchiness. Calvin himself might see this as relevant to Property Ten, Parcellation. The idea is to tile the plane i.e. sync neurons widely across sheet. Bigger hexes nicely employ more of the available neurons, but complete tiling might interfer with the Darwinian dynamics. (Also, syncs with grid cell firing maps, if that is the same mechanism.)\n",
        "\n",
        "<img src=\"https://image.shutterstock.com/image-photo/perfect-structure-hexagon-path-thick-260nw-1144936676.jpg\" />\n",
        "\n",
        "(While we're on the concrete paver, let's extend the metaphor. Under the hex is a triangular lattice of rebar. Where three bars are tied together is the center of the hex. Not sure if pouring the concrete atop rebar or just placing pre-made pavers is better. Originally was latter. Nonetheless, this locks readers' minds into the relative size of the triangles and the hexes.)\n",
        "\n",
        "Analogous to honeycomb, if a circle keeps inflating then the plane will get tiled hexagonally-ish, but Darwinism needs patchiness and individuals, so don't \n",
        "inflate to maximal occupancy/tiling. In the end it's the trilatice that is hard physical, the hex is more conceptual – a shorthand (pic vai [PubMed](https://pubmed.ncbi.nlm.nih.gov/23864500/)):\n",
        "\n",
        "<img src='https://www.ncbi.nlm.nih.gov/pmc/articles/instance/3730681/bin/rsif20130299-g1.jpg' />\n",
        "\n"
      ]
    },
    {
      "cell_type": "markdown",
      "metadata": {
        "id": "e-2YpTIVZMz3",
        "colab_type": "text"
      },
      "source": [
        "#### Ecological scaffolding and the evolution of individuality\n",
        "- Nature [Ecological scaffolding and the evolution of individuality](https://www.nature.com/articles/s41559-019-1086-9) (paywall)\n",
        "- Code\n",
        "  - [MATLAB](https://github.com/andxblack/eco-scaff-paper-code) (MIT-lic on GitHub)\n",
        "  - [**Nested Darwinian populations**](https://observablehq.com/@andxblack/nested-darwinian-populations) JavaScript on ObservableHQ [looks like brain waves]\n",
        "- Two pager at Max Planck: [Ecological Scaffolding](http://micropop.evolbio.mpg.de/research/ecological-scaffolding-and-the-evolution-of-individuality/)\n",
        "  - [ ] Get some quotes in here: \"networks of self-replicating chemistries (from single autocatalytic reactions), the evolution of chromosomes (from once separate genes), evolution of the eukaryotic cell (from ancestral archaebacterial and eubacterial cells), the evolution of sex (from asexual types), the evolution of multicellularity (from single cells) and evolution of eusociality (from asocial types).\"\n",
        "- Technical PR: [Origin of life: A Darwinian machine for non-living objects](https://phys.org/news/2020-02-life-darwinian-machine-non-living.html)\n",
        "  - > ~\"role of ecology underappreciated… can act to exogenously impose Darwinian properties on otherwise non-Darwinian entities…the necessary conditions are minimal: nothing more than patchily distributed resources and a means of between patch dispersal.\"\n",
        "\n",
        "[JFT on Twitter] \n",
        ">~\"role of ecology underappreciated… can act to exogenously impose Darwinian properties on otherwise non-Darwinian entities…the necessary conditions are minimal: **nothing more than patchily distributed resources and a means of between patch dispersal.**\"\n",
        ">   \n",
        "\n",
        "Tech PR:\n",
        "> new paper published in Nature Ecology & Evolution, a team led by Paul Rainey at ESPCI Paris and the Max Planck Institute for Evolutionary Biology provides a solution\n",
        ">\n",
        ">\"In essence, we have produced an ecological recipe that, if followed, will result in the affected entities participating in the process of evolution by natural selection, with **the outcome being some kind of Darwinian machine**.\"\n",
        ">\n",
        ">Ecological scaffolding, says Rainey, brings a new perspective to an old problem. Instead of appealing to focal chemistries or organisms for pre-existing solutions, **scaffolding recognizes the continuity between nascent evolving systems and their environment.**\n",
        "\n",
        "So, He could have stopped at \"Let there be light.\"\n",
        "\n",
        "Cavlin's hex centers are the patches and are the individuals?\n",
        "\n",
        "Patchiness in the brain must have been a technique evolved from local connections. Bigger and bigger local networks, then stumble upon remoting runners, finally becoming annulus (i.e. a gap/distance the runner goes before making synapse in the new local).\n",
        "\n",
        "Competition amongst synapses within a cell is probably not Darwinian. Where would the copied pattern be?\n",
        "\n",
        "It's recursive evolution: an Evolutionary transitions in individuality (ETI) where the hex-ividuals are within a species individual's brain.\n"
      ]
    },
    {
      "cell_type": "markdown",
      "metadata": {
        "id": "oaL8T15wyEC-",
        "colab_type": "text"
      },
      "source": [
        "###### **Preprint**\n",
        "\n",
        "These notes are of the preprints (v1 and v2) from before its publication in Nature: \n",
        "- [Ecological scaffolding and the evolution of individuality: the transition from cells to multicellular life](https://www.biorxiv.org/content/10.1101/656660v2)\n",
        "- by ESPCI Paris\n",
        "- 2020-02\n",
        "  \n",
        "**Abstract**\n",
        ">Evolutionary transitions in individuality are central to the emergence of biological complexity. Recent experiments provide glimpses of processes underpinning the transition from single cells to multicellular life and draw attention to the critical role of ecology. Here we emphasise this ecological dimension and argue that its current absence from theoretical frameworks hampers development of general explanatory solutions. Using mechanistic mathematical models, we show how a minimal ecological structure comprised of patchily distributed resources and between patch dispersal can scaffold Darwinian-like properties on collectives of cells. This scaffolding causes cells to participate directly in the process of evolution by natural selection as if they were members of multicellular collectives, with collectives participating in a death-birth process arising from the interplay between the timing of dispersal events and the rate of resource utilisation by cells. When this timescale is sufficiently long and new collectives are founded by single cells, collectives experience conditions that favour evolution of a reproductive division of labour. Together our simple model makes explicit key events in the major evolutionary transition to multicellularity. It also makes predictions concerning the life history of certain pathogens and serves as an ecological recipe for experimental realisation of evolutionary transitions.\n",
        "\n",
        "**Introduction**\n",
        ">Central to each of these transitions was the emergence of properties at the newly formed level that allowed individuals — at this level — to participate directly in the process of evolution by natural selection. This required newly formed collectives to be discrete and vary one to another, to reproduce\n",
        "and to leave offspring that resemble parental types. These essential and intertwined Darwinian properties of variation, differential reproduction and heredity are such fundamental features of living systems that it is easy to overlook the fact that **individuality is a derived state and in need of\n",
        "evolutionary explanation**.  \n",
        ">With focus on multicellular life, it is evident that reproduction, in even simple multicellular forms, is a complex process. It is therefore tempting to invoke selection as its cause. But this is problematic because the earliest collectives lacked capacity for collective-level reproduction and thus to invoke selection at the collective level as the cause of collective-level reproduction is to invoke the trait requiring explanation as the cause of its own evolution. Clearly such an explanation is unsatisfactory.  \n",
        ">...  \n",
        ">We do not wish to downplay the importance of co-option, but there is conceivable value in asking whether Darwinian properties might emerge in the absence of co-option. Such a take-nothing-for66 granted line of inquiry presents a challenge as it requires conceiving possibilities for the emergence of properties essential for collectives to participate in the process of evolution by natural selection from starting states that lack any manifestation of collective-level Darwinian properties. In essence it begs explanations for how Darwinian properties might emerge from non-Darwinian entities and therefore by non-Darwinian means. Solutions stand to inform not only how multicellular states arise from single cells, but how Darwinian properties might emerge during each of the major evolutionary transitions, including that from non-living matter.  \n",
        ">A solution that we advance draws heavily on ecology, the significance of which we suggest has been\n",
        "overlooked — even though the importance of population structure has been emphasised by literature\n",
        "on the levels of selection. It recognises that Darwinian properties can be “scaffolded” by the\n",
        "environment — that these properties can be exogenously imposed in such a way as to cause lower level\n",
        "entities (e.g., cells) to become unwitting participants in a selective process that occurs over a longer\n",
        "timescale than the timescale over which cell-level selection occurs, and as part of a larger entity (a\n",
        "collective). In time, such exogenously imposed — Darwinian-like — properties stand to become\n",
        "80 endogenous features of evolving systems (for development of general views on scaffolding processes\n",
        "see ___).    \n",
        ">Ecological scaffolding underpinned a recent (and on-going) experimental exploration on the evolution of multicellularity. Discrete lineages established from the bacterium Pseudomonas fluorescens were propagated under conditions that required, for long-term persistence, repeated completion a two-phase\n",
        "life cycle involving soma and germ-like states. In the experiment, variation was discretised using glass microcosms, but the design is synonymous with an environment such as a pond in which reeds extend from the water. Each reed allows establishment of a single microbial mat (the soma-like phase), with the spacing of reeds ensuring variation at the level of mats. Mats that collapse, for example, through physical disturbance, are extinguished, allowing the possibility that an extant mat might, via production of a dispersing (germ-like) phase, increase its representation among the population of mats. Thus the possibility of a selective process unfolds at the level of mats. After ten lifecycle generations, the fitness of derived mats significantly improved, with the most successful lineage having even evolved a simple genetic switch that ensured reliable developmental change between soma and germ-line phases. Not only does this study demonstrate that scaffolding works, but it also showed that externally imposed Darwinian properties can begin the shift toward endogenisation. Or to quote Van Valen: “evolution is the control of development by ecology”.  \n",
        ">Our goal here is to move from the experimental Pseudomonas study to a more general formulation. Our\n",
        "focus is the transition from single cells to multicellular life, but argue that scaffolding has broad\n",
        "implications. Our goal is to show that a minimal set of ecological conditions (and ensuing evolutionary\n",
        "esponses) are sufficient to effect evolutionary transitions in individuality. We develop our thesis using\n",
        "mechanistic models.\n"
      ]
    },
    {
      "cell_type": "markdown",
      "metadata": {
        "id": "dx2sjNQZPbtm",
        "colab_type": "text"
      },
      "source": [
        "### Primordial Particle Systems\n",
        "\n",
        "We need to figure out how consciousness emerges from non-conscious neural\n",
        "systems. So, the brain is a Darwin Machine which creates an environment within which an ecosystem can evolve but before that happens, a stable substrate has to emerge which is pre-conscious, like particles: self-assembling but not with heritable complex patterns to copy, yet.\n",
        "\n",
        "Nature: [How a life-like system emerges from a simplistic particle motion law](https://www.nature.com/articles/srep37969):\n",
        "> The generality and simplicity of the motion law provokes the thought that one fundamental rule, described by one simple equation yields various structures in nature: it may work on different time- and size scales, ranging from the self-structuring universe, to emergence of living beings, down to the emergent subatomic formation of matter…  \n",
        "> We named this class of systems “Primordial Particle Systems” (PPS), as they model a spontaneous emergence of life-like structures. In contrast to existing protocell models12,15 PPS are significantly simpler without impairing their dynamics, thus they are more general and fundamental. Unlike other simplistic models, most prominently Conway’s “Game of Life”\n"
      ]
    },
    {
      "cell_type": "code",
      "metadata": {
        "id": "nQWlpzwTOtFP",
        "colab_type": "code",
        "cellView": "form",
        "colab": {
          "base_uri": "https://localhost:8080/",
          "height": 493
        },
        "outputId": "cf745353-811a-463c-aea0-605dea022da4"
      },
      "source": [
        "#@markdown “Primordial Particle Systems” (PPS) simulation\n",
        "\n",
        "from IPython.display import HTML\n",
        "\n",
        "def display_youtube(video_id):\n",
        "  return HTML(f'<iframe width=\"840\" height=\"472\" src=\"https://www.youtube.com/embed/{video_id}\" frameborder=\"0\" allowfullscreen></iframe>')\n",
        "\n",
        "display_youtube('makaJpLvbow')"
      ],
      "execution_count": null,
      "outputs": [
        {
          "output_type": "execute_result",
          "data": {
            "text/html": [
              "<iframe width=\"840\" height=\"472\" src=\"https://www.youtube.com/embed/makaJpLvbow\" frameborder=\"0\" allowfullscreen></iframe>"
            ],
            "text/plain": [
              "<IPython.core.display.HTML object>"
            ]
          },
          "metadata": {
            "tags": []
          },
          "execution_count": 1
        }
      ]
    },
    {
      "cell_type": "markdown",
      "metadata": {
        "id": "bztWsMf0Ortx",
        "colab_type": "text"
      },
      "source": [
        "\n",
        "[Evolution: why it seems to have a direction and what to expect next](https://theconversation.com/evolution-why-it-seems-to-have-a-direction-and-what-to-expect-next-139706)\n",
        "  - Meh, light reading\n",
        "  - Some interesting bits\n",
        "\n",
        ">Ecology and evolution are two sides of the same coin. The environment is not just the physical surroundings of an organism, but also the other biological species with which it interacts.\n",
        ">\n",
        ">We can see this environmental interaction deep in the history of life. For billions of years, organisms were “stuck” as single cells within the seas. Several groups independently evolved multi-cellularity (perhaps 25 times). But the first animals, plants and fungi with complex development, different tissues and organs only appeared around 540 million years ago, with the Cambrian “explosion” of diversity. "
      ]
    },
    {
      "cell_type": "markdown",
      "metadata": {
        "id": "0MjUIQKiMxyO",
        "colab_type": "text"
      },
      "source": [
        "## Is it all a continuum?\n",
        "\n",
        "How could it not be? Where would nature say, \"377? No. Oh, 378? OK, let's go.\"\n",
        "\n",
        "[Potential beginning of life simulated in lab](https://phys.org/news/2020-06-potential-life-simulated-lab.html)\n",
        ">**Forwarding functions to subsequent generations**  \n",
        ">\"We concluded that this way, the vesicles were able to compensate for destructive pressure. As a survival strategy, if you will,\" explains Mayer. Even if such a vesicle was destroyed, the next generation took up the protein structure. In this way, it adopted a function from its predecessors—similar to classical inheritance.\n"
      ]
    },
    {
      "cell_type": "markdown",
      "metadata": {
        "id": "yru8pasMKk_A",
        "colab_type": "text"
      },
      "source": [
        "## Adaptive immune systems\n",
        "\n",
        "Evolution of species led to phenotype instances within which a Darwinian system (the individual's immune system) runs within the lifetime of the individual. This is evidence for recursive Darwinian dynamics. Is Calvin's theory another instance of recursive Darwinian dynamics: species level natural selection leading to individuals within which another Darwinian system runs? (How does the seeding of the immune system pass from mother to child? Is some of the father's tricks in there?)\n",
        "\n",
        "How does it fit the 6-part checklist? [Such checklists should have the medium of hereditary encoding. E.g. immune system adaptation is on the DNA as well. Notice how Darwinian system has short-ish codes. Bootstrapping evidence?]\n",
        "- http://faculty.ccbcmd.edu/courses/bio141/lecguide/unit6/cellular/cmioverview/cmioverview.html\n",
        "- [Immune system memory](https://en.wikipedia.org/wiki/Adaptive_immune_system#Immunological_memory)\n",
        "- [An Immunological Approach to Combinatorial\n",
        "Optimization Problems](https://link.springer.com/chapter/10.1007%2F3-540-36131-6_37)\n",
        "  - Simple random search optimization algorithms run by immune system\n",
        "  - \"The hypermutation phenomenon observed during the\n",
        "immune responses is a consequence of the fact that the DNA portion coding\n",
        "for the antibodies is subjected to mutation during the proliferation of the B\n",
        "lymphocytes.This provides the system with the ability to generate diversity.\"\n",
        "- And even bacteria are recording DNA from environment: [Unlocking the Key to Immunological Memory in Bacteria](https://newscenter.lbl.gov/2015/02/27/immunological-memory-in-bacteria/)\n",
        "- Simulations of immune system: [Evolutionary Algorithm and Its Application in Artificial Immune System](https://ieeexplore.ieee.org/document/4739953), (2008) an IEEE Conference proceedings\n",
        "\n",
        "[Noble calls it somatic hypermutation](https://youtu.be/-NXCZZOaDPI?t=891): ~\"How can stochasticity in mutations be used by organisms functionally? Targetted stochastic mutation. For example, somatic hypermutation in immune cells. Functionality lies in the targeting of location in genome\"\n",
        "\n",
        "[Darwinism and immunology: from Metchnikoff to Burnet](https://www.nature.com/articles/ni0103-3?proof=t)\n"
      ]
    },
    {
      "cell_type": "markdown",
      "metadata": {
        "id": "sflzm6ej4GH2",
        "colab_type": "text"
      },
      "source": [
        "## Squids and axons\n",
        "\n",
        "If Edelman were alive to hear of this he would eat it up as a bit of evidence for his Neural Darwinism theory. This could address a very valid point in Calvin's critique thereof. Modifying sequences of base pairs is not necessarily a persistance mechanims for a Darwinian system, and this has nothing to do with Calvin's theory.\n",
        "\n",
        "The lack of such evidence though is what drove Calvin's thinking, so…\n",
        "\n",
        "Similar to the immune system? I.e. nature reusing the DNA system for other purposes?\n",
        "\n",
        "- [Spatially regulated editing of genetic information within a neuron](https://academic.oup.com/nar/article/48/8/3999/5809668)\n",
        "  - [“Superpower” Discovered in Squids: They Can Massively Edit Their Own Genetics](https://scitechdaily.com/superpower-discovered-in-squids-they-can-massively-edit-their-own-genetics/)"
      ]
    },
    {
      "cell_type": "markdown",
      "metadata": {
        "id": "rmZk0FnC8j_p",
        "colab_type": "text"
      },
      "source": [
        "## Bacterial resistance\n",
        "\n",
        "How is this not just regular evolution of species?"
      ]
    },
    {
      "cell_type": "markdown",
      "metadata": {
        "id": "r5gVoPJyaOra",
        "colab_type": "text"
      },
      "source": [
        "# The Darwin Machine Theory\n",
        "\n",
        "\"Dawned on me\" is a curious idiom.\n",
        "\n",
        "Mother Nature builds computers wholly differently than how humans have been doing it [[*](https://www.nature.com/articles/nature26159)]. Calvin combined his work in neurology and evolution to to noodle a mechanism whereby a brain could be a machine which runs real-time evolutionary algorithms, with the machine's design being a plausible output of the design constraints of Connectionism and Darwinism, which are only dimly comprehended by most people.\n",
        "\n",
        "(Seems the term was coined in 1987, as per a [harsh 4 minute review](https://youtu.be/gmcfrXsBVdA?t=9)?)\n",
        "\n",
        "This theory says nothing about what goes on in the cylinders. It is talking about how did you get to having cylinders, and what is the relationship between the cylinders that are doing whatever the fuck they are want to do, who knows.\n",
        "\n",
        "By using the name, Darwin Machine Theory, Calvin is implying the theory describes a type of thing akin to a [Turing machine](https://en.wikipedia.org/wiki/Turing_machine). (Of course, there is no infinitely long tape in the brain; the algorithms run on cells in the brain. Turing machine tapes are theoretically infinite but the storage capicity of decent sized brain is huge, by Kanerva's math.) The theory postulates that brain is a machine that runs Darwinian process by creating an internal environment within which evolutionary algorithms run. \n",
        "\n",
        "In 2020 [Calvin wrote](https://medium.com/up-from-the-apes-excerpts/the-gauguin-questions-9a401498d46):\n",
        "> [Book cover] What are we? Our mind, aided by an augmented imagination, is an engine of exploration and prediction. Happiness reflects a prediction of how things ar going to go. We love creativity's \"Ah-ha!\" moments so much to do crossword and jigsaw puzzles.\n",
        "\n",
        ">‘What are we?’ is home ground for me. My neuroscience research has mostly focused on **how brain circuits innovate on the timescale of seconds,** producing new thoughts with a quality control that keeps our spoken sentences from emerging as incoherent as our nighttime dreams. I am nominally a University of Washington medical school professor, a Ph.D. (physiology & biophysics) trained to wiretap brain cells, concerned with how things work inside the brain (more in The Cerebral Code and earlier books).  \n",
        "\n",
        "> [evolutionary ecology] led me to asking how the hominin brain enlarged three-fold in the last several million years, my major research interest in recent years — when taking a rest break from climate concerns.\n",
        "\n",
        "> those climate scientists who work on abrupt climate change… Originally, I was motivated by my interest in the 3X boom in brain size and how climate change might have driven it, as climate change is what usually speeds up evolutionary processes.\n",
        "\n",
        "Calvin is an experimental neuroscientist: glass coated tungsten wires stuck into living brains in a lab to listen to single neurons chirp away. Calvin also studies evolution. Somewhere around the 1980's he abstracted the necessary features a Darwinian system requires to run. He came up with six core features. He then turned his mind back to neuroscience – armed with his checklist – and then noodled out how pyramidal neurons in the superficial layers of the cerebral cortex might run an Darwinian cellular automaton (with hexagonal tiles, rather than the squares of Conway's Game of Life) bootstrapping off a equilateral triangular mesh lattice build atop mutually intersecting annuli.\n"
      ]
    },
    {
      "cell_type": "markdown",
      "metadata": {
        "id": "-PmUHPpl6KgV",
        "colab_type": "text"
      },
      "source": [
        "## Calvin on evolution\n",
        "\n",
        "Calvin is an experimentalist: he stuck glass-coated tungsten wires into living brain tissue and via that wiretap listened to neurons chatter amongst themselves.\n",
        "\n",
        "But Calvin also studied evolution of species, especially recent developments into humans, e.g. how fluctuating ice ages that ended recently (100,000ya) before modern time/humans pumped the pedals on evolution, to make us.\n",
        "\n",
        "Then he came up with his Darwining Systems features checklist (6 plus 5).\n",
        "\n",
        "Then he spun up a model of how that might be realized in brains. Then he came up with experiments to run to test the theory.\n",
        "\n",
        "Then grid cells happened later.\n"
      ]
    },
    {
      "cell_type": "markdown",
      "metadata": {
        "id": "uGQuNetOIy-8",
        "colab_type": "text"
      },
      "source": [
        "## The Cerebral Code (1996)\n",
        "\n",
        "<a href='http://williamcalvin.com/bk9/'><img src='https://mitpress.mit.edu/sites/default/files/styles/large_book_cover/http/mitp-content-server.mit.edu%3A18180/books/covers/cover/%3Fcollid%3Dbooks_covers_0%26isbn%3D9780262032414%26type%3D.jpg?itok=VCr--Zhx' width='80%' /></a>\n",
        "\n",
        "This is where it all started for Tigue, at the UW bookstore around the turn of the century.\n",
        "\n",
        "[The Cerebral Code: Thinking a Thought in the Mosaics of the Mind](http://www.williamcalvin.com/bk9/)\n",
        "- By William H. Calvin (1996)\n",
        "- [Full text on autor's site](http://www.williamcalvin.com/bk9/) \n",
        "- [MIT Press](https://mitpress.mit.edu/books/cerebral-code) \n",
        "  - [Mark Meyer cover](http://www.williamcalvin.com/img/bk9.jpg)\n",
        "- [Society for Neuroscience poster 138.3 handout](http://williamcalvin.com/socns94.html) (1994)\n",
        "  - [ ] **TODO:** Read it\n",
        "\n",
        "Stuff to work with:\n",
        "- [Close encounter theme](https://www.youtube.com/watch?v=AphKxQ2NsQo)\n",
        "- The replication enables the Darwinian Population, like life going multi-celular\n"
      ]
    },
    {
      "cell_type": "markdown",
      "metadata": {
        "id": "cl9Na08APxFq",
        "colab_type": "text"
      },
      "source": [
        "Ecological scaffolding wants \"nothing more than patchily distributed resources and a means of between patch dispersal.\" So, how does that two-item checklist work out for DMT? If Calvin's musical loop plays physically locally, focused around a tri-vertex… smoothly or a bit jumpy but local as in patches, each one centered at its tri-vertex and its six neighbor patches centered around their tri-vertexs, with gaps of some distance between them. [Do the hexes fully fill, or that's different? In that case it's circular growing of radii until the plane is filled like so many round dough biskets overpacked into a tin for backing ---- with maybe a bit of gap.\n",
        "\n"
      ]
    },
    {
      "cell_type": "markdown",
      "metadata": {
        "id": "jPiE_3GTtNUI",
        "colab_type": "text"
      },
      "source": [
        "### Darwinian System Abstraction\n",
        "\n",
        "6 core features plus 5 catalytic accellerants\n",
        "\n",
        "**The Core Six**    \n",
        "\n",
        "The core six are introduced in Chapter One. **The six feature checklist drove the development of the theory.** Calvin came up with the checklist from his study of the evolutions of species (standard Darwinism) and then asked himself how a brain could be a machine that runs such a Darwinian system, by looking for the six features, in the firing of neurons.\n",
        "\n",
        "The checklist is introduced in Chapter One. The first six chapters of the book then introduce neural mechanisms which might implement each of the six features. The chapters are linked to below.\n",
        "\n",
        "The six can be broken out into two triples: the first three are about the pattern (the Darwinian individual), and the later three focus on a Darwinian population and its environment.\n",
        "\n",
        "Quoting from page 21:\n",
        ">Natural selection alone isn't sufficient for evolution, and neither is copying alone -- not even copying with selection will suffice. I can identify six essential aspects of the creative darwinian process that bootstraps quality.\n",
        ">\n",
        ">[1.](http://www.williamcalvin.com/bk9/bk9ch1.htm) There must be **a reasonably complex pattern** involved.  \n",
        ">[2.](http://www.williamcalvin.com/bk9/bk9ch2.htm) The pattern must be **copied** somehow (indeed, that which is copied may serve to define the pattern [Is he saying no genotype/phenotype duality in DMT).  \n",
        ">[3.](http://www.williamcalvin.com/bk9/bk9ch3.htm) **Variant patterns** must sometimes be produced by chance.  \n",
        ">[4.](http://www.williamcalvin.com/bk9/bk9ch4.htm) The pattern and its variant must **compete** with one another for occupation of a limited work space. For example, bluegrass and crab grass compete for back yards.  \n",
        ">[5.](http://www.williamcalvin.com/bk9/bk9ch5.htm) The competition is biased by **a multifaceted environment**, for example, how often the grass is watered, cut, fertilized, and frozen, giving one pattern more of the lawn than another. **That's natural selection.**.  \n",
        ">[6.](http://www.williamcalvin.com/bk9/bk9ch6.htm) There is a skewed survival to reproductive maturity (environmental selection is mostly juvenile mortality) or a skewed distribution of those adults who successfully mate (sexual selection), so **new variants always preferentially occur around the more successful of the current patterns**.\n",
        "\n",
        "\n"
      ]
    },
    {
      "cell_type": "markdown",
      "metadata": {
        "id": "CumdwHh1lLRc",
        "colab_type": "text"
      },
      "source": [
        "Regarding #2 \"that which is copied may serve to define the pattern\": I believe what he is saying is that when he applies his abstract checklist to the electro-morphological mechanism of DMT in the brain, there will not be a genotype/phenotype split, rather the pattern is the individual. The individuals occupy the hexes. Many adjacent hexes will have identical copies of individuals. "
      ]
    },
    {
      "cell_type": "markdown",
      "metadata": {
        "id": "64-OmcDWLgTs",
        "colab_type": "text"
      },
      "source": [
        "**The five Nice-to-Have Accelerants** \n",
        "\n",
        "At this point is starts to feel like a generation before PGSs continuum of Darwinian spaces.\n",
        "\n",
        ">At least five other factors are known to be important to the evolution of species. The creative darwinian process will run without them, but they affect the stability of its outcome, or the rate of evolution, and will be important for my model of cognitive functions. Just like the catalysts and enzymes that speed chemical reactions without being consumed, they may make improbable outcomes into commonplace ones.\n",
        ">7. Stability may occur, as in getting stuck in a rut (a local peak or basin in the adaptational landscape). Variants occur but they backslide easily. Only particularly large variations can ever escape from a rut, but they are few, and even more likely to produce nonsense (phenotypes that fail to develop properly, and so die young).\n",
        ">8. Systematic recombination generates many more variants than do copying errors and the far-rarer cosmic-ray mutations. Recombination usually occurs once during meiosis (the grandparent chromosomes are shuffled as haploid sperm and ova are made) and again at fertilization (as the haploid parent genomes are combined into diploid once again, at fertilization). Sex, in the sense of gamete dimorphism (going to the extremes of expensive ova and cheap sperm), was invented several billion years ago and greatly accelerated species evolution over the rate promoted by errors, bacterial conjugation, and retroviruses.\n",
        ">9. Fluctuating environments (seasons, climate changes, diseases) change the name of the game, shaping up more complex patterns capable of doing well in several environments. For such jack-of-all-trades selection to occur, the environment must change much faster than efficiency adaptations can track it, or \"lean mean machine\" specialists will dominate the expensive generalists.\n",
        ">10. Parcellation, as when rising sea level converts the hilltops of one large island into an archipelago of small islands, typically speeds evolution. This is, in part, because more individuals then live on the margins of the habitat where selection pressure is greater. Also, there is no large central population to buffer change. When rising sea level converted part of the coastline of France into the island of Jersey, the red deer trapped there in the last interglaciation underwent a considerable dwarfing within only a few thousand years. [**JFT: this parcelation sounds a lot like ecological scaffolding's: \"nothing more than patchily distributed resources and a means of between patch dispersal\".**]\n",
        ">11. Local extinctions, as when an island population becomes too small to sustain itself, speed evolution because they create empty niches. When subsequent pioneers rediscover the unused resources, their descendants go through a series of generations where there is enough food -- even for the more extreme variations that arise, the ones that would ordinarily lose out in the competition with the more optimally endowed, such as the survivors of a resident population. When the environment again changes, some of those more extreme variants may be able to cope better with the third environment than the narrower range of variants that would reach reproductive age under the regime of a long-occupied niche.\n",
        ">Sexual selection also has the reputation of speeding evolution, and there are \"catalysts\" acting at several removes, as in Darwin's example of what introducing cats to an English village would do to enhance the bee-dependent flowers, via reducing the rodent populations that disrupt bee hives.\n",
        ">An example of how these catalysts work together is island biogeography, as in the differentiation of Darwin's finches unbuffered by large continental gene pools. Archipelagos allow for many parallel evolutionary experiments. Episodes that recombine the islands (as when sea level falls during an ice age) create winner-take-most tournaments. Most evolutionary change may occur in such isolation, in remote valleys or offshore islands, with major continental populations serving as slowly changing reservoirs that provide pioneers to the chancy periphery."
      ]
    },
    {
      "cell_type": "markdown",
      "metadata": {
        "id": "eHGhoWreGlf7",
        "colab_type": "text"
      },
      "source": [
        "### Animated book suppliments\n",
        "\n",
        "On his website, Calvin has [three animated GIFs](http://williamcalvin.com/Demo1.htm) to help explain the theory. That is spread over 3 web pages. Here, the same GIFs and text are presented for the benefit of the reader.\n",
        "\n",
        "[**First**](http://williamcalvin.com/Demo1.htm)\n",
        ">Unlike deep-layer pyramidal neurons, the collaterals of superficial pyramidal neurons have an interesting \"express train\" patterning, with no \"stops\" except in clusters separated by about 0.5 mm (varies with cortical area). They also have many terminations locally, presumably to other pyramidal neurons in the same dendritic bundle. The overall pattern is like that of a focussed flashlight beam, a hot spot in the middle and then a bright ring about 0.5 mm away.\n",
        "\n",
        "<img src='http://williamcalvin.com/img/flashlight-cycle.gif' />\n",
        "\n",
        "[**Second**](http://williamcalvin.com/Demo2.htm):\n",
        ">The flashlight-beam patterning means that neurons about 0.5 mm apart recurrently excite one another. This makes it likely that they will synchronize their firing, if otherwise active. But the bright rings will also cross at a third and fourth point to form a triangular array of synchronized neurons.  \n",
        "If many such triangular arrays form, the spatiotemporal firing pattern will exhibit repeats; the minimum replicable unit with no redundancy is a hexagon 0.5 mm across. Thus one can think of clones of movement commands forming a hexagonal mosaic, with alternative movements competing with one another for space in association cortex.\n",
        "\n",
        "<img src='http://williamcalvin.com/img/tri-123-seq.gif' />\n",
        "\n",
        "[**Third**](http://williamcalvin.com/Demo3.htm)\n",
        ">The spatiotemporal firing pattern is analogous to a melody, if the several hundred minicolumns of the unit hexagon are mapped to a musical scale.\n",
        "\n",
        "<img src='http://williamcalvin.com/img/UnrollSeq.gif' />"
      ]
    },
    {
      "cell_type": "markdown",
      "metadata": {
        "id": "EtXxBBmlpSkN",
        "colab_type": "text"
      },
      "source": [
        "### Abstraction mapped to specifics\n",
        "\n",
        "\n",
        "| | 1 | 2 | 3 | 4 | 5 | 6 | \n",
        "|-|---|---|---|---|---|---|\n",
        "| Species |  |  |  |  |  |  | \n",
        "| Immune |  |  |  |  |  |  | \n",
        "| Bacterial resistance |  |  |  |  |  |  |\n",
        "| Brain |  |  |  |  |  |  | \n",
        "\n",
        "\n",
        "\n",
        "\n"
      ]
    },
    {
      "cell_type": "markdown",
      "metadata": {
        "id": "69YEqcYO4B39",
        "colab_type": "text"
      },
      "source": [
        "### Network morphology\n",
        "\n",
        "It is **a mesoscale network which tiles the cortical sheet.**  It simply includes the annulus in the model of a single neuron, and the rest falls out from there. The neuron model type is spiking. Pairs of neurons mutually entrain. Network membership grows contiguously across mutually interconnected annuli.\n",
        "\n",
        "(Chainmail is a very sloppy metaphor because the ring don't overlap at the centers of the ring. But the sheet of interlocking ring part is a start.)\n",
        "\n",
        "Take two neurons. Each has an annulus of the same radius. The two neurons' somas are on each other annulus, which is how they can mutually entrain, at a small distance. \n",
        "\n",
        "The tiling of the cortical sheet is derived from the interlinking annuli. Each soma is a dot on the cortical sheet. The sheet is completely covered in those dots. But pick a given dot and draw a circle around it to represent it annuli. By following interlinking annuli a equilateral triangular network emerges by only selecting neurons which mutually occur on each other annuli.\n",
        "\n",
        "So, we have two neurons (say, A and B) with mutual connections. Meuron A has a set of neurons on it annuli, one of which is neuron B. Next, notice that there are two more neurons on A's annulus (let's call them C and D). C is positioned such that A and B are its annulus. And symmetrically, the same is true for D. C and D are too far apart for their annuli to intersect.\n",
        "\n",
        "That construction can keep going, growing across the cortical sheet. That is the mesoscale network. It structures the space such that Darwinian individuals, aka Hebbing cell ssemblies, can evolve distictly each with its own internal encoder.\n",
        "\n"
      ]
    },
    {
      "cell_type": "markdown",
      "metadata": {
        "id": "lGLFJTmSgjwn",
        "colab_type": "text"
      },
      "source": [
        "### Later Chapters\n",
        "\n",
        "Analogies and metaphor\n",
        "\n",
        "Hofstadter\n",
        "- \"Word choice is guided by analogy\"\n",
        "- [\"Words - individual words - are the locus of a fight\"](https://youtu.be/n8m7lFQ3njk?t=3241). \"subterranean fight going on, mostly hidden.\" Then reviews examples – audible word-blends as examples of the subterranean fight breaking out to the surface as sounds."
      ]
    },
    {
      "cell_type": "markdown",
      "metadata": {
        "id": "2Z5vU62Hj55d",
        "colab_type": "text"
      },
      "source": [
        "## Open questions\n",
        "\n",
        "How does a hex decide to copy competing neighbors of equal count (say, 2 are X and 2 are Y)?\n",
        "\n",
        "What goes on inside a hex? Is that ever touched on?"
      ]
    },
    {
      "cell_type": "markdown",
      "metadata": {
        "id": "VuPqN-ZyfghH",
        "colab_type": "text"
      },
      "source": [
        "## Metaphors\n",
        "\n",
        "Godfrey-Smith's Darwinian individuals are Calvin's hexes.\n",
        "\n",
        "[Twitter(JohnTigue)](https://twitter.com/johntigue/status/1285281059106480128):\n",
        ">\"It dawned on me\" is an excellent idiom within which is a metaphor that captures well certain qualities of consciousness.  \n",
        ">The a-ha moment is just that: a moment. It's related but different; that's more the climax of the process.\n",
        ">  \n",
        ">Morning twilight – a period of time – starts at dawn. Sunrise is the moment the Sun's upper limb crests the horizon.   \n",
        ">Mapped to consciousness, sunrise is the a-ha moment. \"It dawned on me\" is a post sunrise state. Yet things were afoot before the sun blazed over the horizon."
      ]
    },
    {
      "cell_type": "markdown",
      "metadata": {
        "id": "eoqWSAfGpIU7",
        "colab_type": "text"
      },
      "source": [
        "# Neuroscientific evidence\n",
        "\n",
        "Calvin stopped working actively on neuroscience around 2004. He still rips out evolution and neurosciece stuff but his main focus is the climate crisis.\n",
        "\n",
        "So, in the ensuing quarter century, what new evidence is there for his theory, in the literature?\n",
        "\n",
        "[The modular organization of the cerebral cortex: Evolutionary significance and possible links to neurodevelopmental conditions](https://pubmed.ncbi.nlm.nih.gov/30303529/) (Casanova and Casanova, 2019) , Fig One is good:\n",
        "<img src=\"https://www.ncbi.nlm.nih.gov/pmc/articles/instance/6784310/bin/nihms-1509237-f0001.jpg\" width='50%'/>\n",
        "\n"
      ]
    },
    {
      "cell_type": "markdown",
      "metadata": {
        "id": "ygBCHQSWY1km",
        "colab_type": "text"
      },
      "source": [
        "# Testing Calvin's DMT\n",
        "\n",
        "The original motivation for these detectors come straight out of The Cerebral Code. Calvin came up with the theory, described it, and then scribbled out what a test tool would look like, when the technology became available.\n",
        "<center>\n",
        "  <a href='http://www.williamcalvin.com/bk9/bk9ch3.htm'><img src='http://www.williamcalvin.com/bk9/img/array.jpg' /></a>\n",
        "\n",
        "\n",
        "\n",
        "  Image array.jpg from <a href='http://www.williamcalvin.com/bk9/img/array.jpg'>The Cerebral Code, p.50</a> (Note: \"grid electrode\")\n",
        "</center>\n"
      ]
    },
    {
      "cell_type": "markdown",
      "metadata": {
        "id": "vaSj39KiPGiR",
        "colab_type": "text"
      },
      "source": [
        "Since the base feature of Calvin's model which is special is the annulus, which is the start of the architecture, then compare cell types annuli and macrocolumns across species. Do the macrocolumn spacing align with annuli radii?"
      ]
    },
    {
      "cell_type": "markdown",
      "metadata": {
        "id": "Zvyarg8UYrx_",
        "colab_type": "text"
      },
      "source": [
        "## Grid cells and Calvin's hexagons\n",
        "\n",
        "Virtual grid cell arena plus 2P: are grid cell firing rate maps simply one point in a DTM field? Is the trilatice of grid cells simply because they are replicating their hexfield neighbors?\n",
        "\n",
        "Maybe grid cells are an annulus based trilattice but very low on the Darwinism system scale of complexity.\n",
        "\n",
        "One experiment that might be interesting is to figure out if grid cell firing rate map is just a single point in a Calvin DMT trilattice. If a trilattice can be seen in 2P, combine a wiretapped grid cell arena-based experiment with a virtual maze rig for 2P. The mouse would be prepared for both: insert wiretap into grid cells and 2P imaging. The virtual maze would be just like the grid cell arena. If that grid cell in in a hex currently involved in a hexes synced assembly of tiles, does that coordinate with the grid cell firing rate? Do the two trilattices correlate. **TODO:** work this out as per CCode p.45-ish\n",
        "\n",
        "Making the arena virtual allows for low-hassle rando rewards (no tossing kibble, just code running to generate new rando reward location. This also enables easier experiments regarding variable walls and the resulting effect on the spacing of the island patches.\n",
        "\n",
        "Dual modality experiments (if that is the correct term) seem to have precedence. Crick discussed [fRMI and electrodes experiments in monkeys](https://youtu.be/1Kvv7fKadyc?t=1800).\n",
        "\n",
        "### Mayank Mahta\n",
        "[Mayank Mehta](https://youtu.be/JUPORxRBfYU?t=3790) the challenge in the field it to come up with quatitatively testable theories, not just one prediction or another. \n",
        "\n",
        "- [He wants](https://youtu.be/JUPORxRBfYU?t=3812) a unified theory to explain grid, place, boundary, boundary vector, head, etc. cells. Analogy to the mesons discovered bit-by-bit until a unified theory was worked out by smart reduction unto falsifiable quantitive understanding. \n",
        "- What is a minimal theory that allows smartly ignoring much to come up with \"a quantitative understanding that is falsifiable.\" \n",
        "- He says [no topography found in multi-electrode experiments in entorhinal](https://youtu.be/JUPORxRBfYU?t=820)\n",
        "- [His theory](https://youtu.be/JUPORxRBfYU?t=2196) has many neurons all coming up with predictive idealets about the near future in parallel and some winner is selected, which sounds like natural selection.\n",
        "- [\"along vertices of hexagonal or triangular lattice\"](https://youtu.be/JUPORxRBfYU?t=2816)\n"
      ]
    },
    {
      "cell_type": "markdown",
      "metadata": {
        "id": "u7RI0FB-P79m",
        "colab_type": "text"
      },
      "source": [
        "## Find the annuli in the Cell Types DB\n",
        "\n",
        "It's been over 25 years. Let's look AIBS data to find what neuron types might be the basis of the trilattice. Calvin says they are superficial layers pyramidals. AIBS got lots of those. And then look for them in MICrONS i.e. looking for a population of a cell type where they are linking to each others annuli. (Or could it involve multiple cell types?) Seung talked of basket cells so they are able to type the neurons in the cuboid.\n",
        "\n",
        "The following image is from [Classification of electrophysiological and morphological neuron types in the mouse visual cortex](https://www.nature.com/articles/s41593-019-0417-0). This is a list of known types of neurons in the mouse visual system. According to The Cerebra Code the equi-triangle mesh bootstraps off entrained neurons of intersecting annuli amongsts **superfical pyramidal neurons.** So, the perp line-up can focus on the top row of the following image d:\n",
        "\n",
        "[![](https://media.springernature.com/lw685/springer-static/image/art%3A10.1038%2Fs41593-019-0417-0/MediaObjects/41593_2019_417_Fig4_HTML.png?as=webp)](https://www.nature.com/articles/s41593-019-0417-0)\n",
        "\n"
      ]
    },
    {
      "cell_type": "markdown",
      "metadata": {
        "id": "wAjTwWIyfF6_",
        "colab_type": "text"
      },
      "source": [
        "## Detect tri-lattices in optical recordings 2P Ca2+\n",
        "\n",
        "The 480um hole in the skull of AIBS mice is sufficiently wide for a field of hexes to been observable. Only single digits wide diameter of hexs. So, a field comprising, say, 50 hex pavers in total?\n",
        "https://drive.google.com/drive/folders/1KaP-ddRwKgHQ0QldNxYsGbS0ZOXEeRq3\n",
        "\n",
        "These movies are publicly available in S3. > 100 TB of movies (and other experiment measures and recordings of stimuli and responses, pupil, wiskers, rewards timing, etc.)\n"
      ]
    },
    {
      "cell_type": "markdown",
      "metadata": {
        "id": "SSeZkrs41-j1",
        "colab_type": "text"
      },
      "source": [
        "## Techs, but AIBS?\n",
        "\n",
        "As per [Pine & Baylor (1994)](https://www.researchgate.net/publication/15009021_Multi-neuronal_signals_from_the_retina_acquisition_and_analysis)\n",
        "\n",
        "[![](https://images.slideplayer.com/35/10406582/slides/slide_8.jpg)](https://slideplayer.com/slide/10406582/)\n",
        "\n",
        "\n"
      ]
    },
    {
      "cell_type": "markdown",
      "metadata": {
        "id": "sQluzKllez2J",
        "colab_type": "text"
      },
      "source": [
        "# Tigue notes\n",
        "\n",
        "[JFT on Twitter](https://twitter.com/johntigue/status/1260744981645418496):\n",
        "> In \"designing\" a brain, nature evolves an ecosystem of cell types whose instances individually manage competitions amongst their internal resources: axon, dendrites, & synapses. Inside that world (recursively, a la immune system) evolution happens again… https://www.youtube.com/watch?time_continue=1&v=FUqYNRZTl3U&feature=emb_logo\n",
        "\n"
      ]
    },
    {
      "cell_type": "markdown",
      "metadata": {
        "id": "GpeD6uCFdSB0",
        "colab_type": "text"
      },
      "source": [
        "# Appendices"
      ]
    },
    {
      "cell_type": "markdown",
      "metadata": {
        "id": "YemzBxPWUxR4",
        "colab_type": "text"
      },
      "source": [
        "## References\n",
        "\n",
        "### The book\n",
        "- <a name=\"ref_1\"/>[1] [The Cerebral Code on MIT Press site](https://mitpress.mit.edu/books/cerebral-code)\n",
        "- <a name=\"ref_2\"/>[2] [The full text of the book on williamcalvin.com](http://williamcalvin.com/bk9/)\n",
        "- <a name=\"ref_3\"/>[3] [Full text on Internet Archive](https://web.archive.org/web/20190807044621/williamcalvin.com/bk9)\n",
        "\n",
        "### Triangular grids in Python\n",
        "\n",
        "- [triangle_grid.html](https://stackoverflow.com/questions/11373122/best-way-to-store-a-triangular-hexagonal-grid-in-pythonhttps://people.sc.fsu.edu/~jburkardt/py_src/triangle_grid/triangle_grid.html)\n",
        "- [making-grid-triangular-mesh-quickly-with-numpy](https://stackoverflow.com/questions/44934631/making-grid-triangular-mesh-quickly-with-numpy)"
      ]
    },
    {
      "cell_type": "markdown",
      "metadata": {
        "id": "Odg_FtoQQDAh",
        "colab_type": "text"
      },
      "source": [
        "## Legal\n",
        "\n",
        "\n",
        "<img src=\"http://reconstrue.com/assets/images/reconstrue_combo_mark.svg\" height=\"40px\" />\n",
        "\n",
        "Copyright 2020 Reconstrue LLC. Licensed under the Apache License, Version 2.0 (the \"License\"):"
      ]
    },
    {
      "cell_type": "code",
      "metadata": {
        "id": "rS0WdzElQE6N",
        "colab_type": "code",
        "colab": {}
      },
      "source": [
        "# Copyright 2020 Reconstrue LLC. All Rights Reserved.\n",
        "#\n",
        "# Licensed under the Apache License, Version 2.0 (the \"License\");\n",
        "# you may not use this file except in compliance with the License.\n",
        "# You may obtain a copy of the License at\n",
        "#\n",
        "#     http://www.apache.org/licenses/LICENSE-2.0\n",
        "#\n",
        "# Unless required by applicable law or agreed to in writing, software\n",
        "# distributed under the License is distributed on an \"AS IS\" BASIS,\n",
        "# WITHOUT WARRANTIES OR CONDITIONS OF ANY KIND, either express or implied.\n",
        "# See the License for the specific language governing permissions and\n",
        "# limitations under the License.\n",
        "# =============================================================================="
      ],
      "execution_count": null,
      "outputs": []
    },
    {
      "cell_type": "markdown",
      "metadata": {
        "id": "3K1XtTqz-wRw",
        "colab_type": "text"
      },
      "source": [
        "<center>\n",
        "<a href=\"https://en.wikipedia.org/wiki/Six-petal_rosette\">\n",
        "<img width=\"50%\" src=\"https://upload.wikimedia.org/wikipedia/commons/thumb/f/fd/Flower_of_life_triangular-arccircle.svg/1200px-Flower_of_life_triangular-arccircle.svg.png\" />\n",
        "</a>\n"
      ]
    }
  ]
}